{
 "cells": [
  {
   "cell_type": "markdown",
   "id": "042a90a9-1193-4897-bd89-7f49bb032760",
   "metadata": {},
   "source": [
    "### PYTHON IF ELSE PRATCICE QUESTIONS\n"
   ]
  },
  {
   "cell_type": "code",
   "execution_count": 7,
   "id": "16af05f9-ce0b-4d81-a45a-a6722c4d0460",
   "metadata": {},
   "outputs": [
    {
     "name": "stdin",
     "output_type": "stream",
     "text": [
      "ENTER THE TOTAL AMOUNT OF PURCHASE $ 200\n"
     ]
    },
    {
     "name": "stdout",
     "output_type": "stream",
     "text": [
      "you are eliglible for 10% discount.\n",
      "Original Price: $200.00\n",
      "Discount: -$20.00\n",
      "Final Price: $180.00\n"
     ]
    }
   ],
   "source": [
    "#CHECK DISCOUNT AND ELIGILIBILTY\n",
    "\n",
    "total_purchase = float(input(\"ENTER THE TOTAL AMOUNT OF PURCHASE $\"))\n",
    "\n",
    "if total_purchase >100:\n",
    "    discount = total_purchase * 0.10\n",
    "    final_price = total_purchase - discount\n",
    "    print(f\"you are eliglible for 10% discount.\")\n",
    "    print(f\"Original Price: ${total_purchase:.2f}\")\n",
    "    print(f\"Discount: -${discount:.2f}\")\n",
    "    print(f\"Final Price: ${final_price:.2f}\")\n",
    "else:\n",
    "    print(f\"no discount applicable\")\n",
    "\n"
   ]
  },
  {
   "cell_type": "code",
   "execution_count": 13,
   "id": "1a8fa285-0f81-4c48-8d8a-bbd9158122e3",
   "metadata": {},
   "outputs": [
    {
     "name": "stdin",
     "output_type": "stream",
     "text": [
      "enter the number of items 56\n"
     ]
    },
    {
     "name": "stdout",
     "output_type": "stream",
     "text": [
      "you are eliglible for 15%DISCOUNT\n",
      "original price : $56.00\n",
      "discount: -$8.40\n",
      "final price : $47.60\n"
     ]
    }
   ],
   "source": [
    "#CALCULATE BULK DISCOUNT\n",
    "total_items = float(input(\"enter the number of items\"))\n",
    "\n",
    "if total_items > 5:\n",
    "    discount = total_items * 0.15\n",
    "    final_price= total_items - discount\n",
    "    print(f\"you are eliglible for 15%DISCOUNT\")\n",
    "    print(f\"original price : ${total_items:.2f}\")\n",
    "    print(f\"discount: -${discount:.2f}\")\n",
    "    print(f\"final price : ${final_price:.2f}\")\n",
    "else:\n",
    "    print(f\"no discount applicable\")"
   ]
  },
  {
   "cell_type": "code",
   "execution_count": 15,
   "id": "e6ba5be8-8fcf-4483-aacb-a01c5a038f7a",
   "metadata": {},
   "outputs": [
    {
     "name": "stdin",
     "output_type": "stream",
     "text": [
      "Enter the total purchase amount: $ 600\n",
      "Is the customer a member? (yes/no):  YES\n"
     ]
    },
    {
     "name": "stdout",
     "output_type": "stream",
     "text": [
      "\n",
      "Original Price: $600.00\n",
      "Discount: 20% (Member Discount) -$120.00\n",
      "Final Price: $480.00\n"
     ]
    }
   ],
   "source": [
    "#MEMBERSHIP DISCOUNT\n",
    "# Input: Total purchase amount and membership status\n",
    "total_purchase = float(input(\"Enter the total purchase amount: $\"))\n",
    "is_member = input(\"Is the customer a member? (yes/no): \").strip().lower() == \"yes\"\n",
    "\n",
    "# Check membership and calculate discount\n",
    "if is_member:\n",
    "    discount_rate = 0.20  # 20% discount for members\n",
    "    discount_type = \"20% (Member Discount)\"\n",
    "else:\n",
    "    discount_rate = 0.05  # 5% discount for non-members\n",
    "    discount_type = \"5% (Non-Member Discount)\"\n",
    "\n",
    "discount = total_purchase * discount_rate\n",
    "final_price = total_purchase - discount\n",
    "\n",
    "# Display the results\n",
    "print(f\"\\nOriginal Price: ${total_purchase:.2f}\")\n",
    "print(f\"Discount: {discount_type} -${discount:.2f}\")\n",
    "print(f\"Final Price: ${final_price:.2f}\")\n"
   ]
  },
  {
   "cell_type": "code",
   "execution_count": 49,
   "id": "cc3a81d5-7323-4ad3-905a-95f54345062a",
   "metadata": {},
   "outputs": [
    {
     "name": "stdin",
     "output_type": "stream",
     "text": [
      "Enter the total purchase amount: $ 200\n",
      "Is today a holiday? (yes/no):  yes\n"
     ]
    },
    {
     "name": "stdout",
     "output_type": "stream",
     "text": [
      "\n",
      "Original Price: $200.00\n",
      "Discount: 25% (Holiday Discount) -$50.00\n",
      "Final Price: $150.00\n"
     ]
    }
   ],
   "source": [
    "#seasonal sale\n",
    "# Input: Total purchase amount and holiday status\n",
    "total_purchase = float(input(\"Enter the total purchase amount: $\"))\n",
    "is_holiday = input(\"Is today a holiday? (yes/no): \").strip().lower() == \"yes\"\n",
    "\n",
    "# Check holiday status and calculate discount\n",
    "if is_holiday:\n",
    "    discount_rate = 0.25  # 25% discount on holidays\n",
    "    discount_type = \"25% (Holiday Discount)\"\n",
    "else:\n",
    "    discount_rate = 0.10  # 10% discount on regular days\n",
    "    discount_type = \"10% (Regular Discount)\"\n",
    "\n",
    "discount = total_purchase * discount_rate\n",
    "final_price = total_purchase - discount\n",
    "\n",
    "# Display the results\n",
    "print(f\"\\nOriginal Price: ${total_purchase:.2f}\")\n",
    "print(f\"Discount: {discount_type} -${discount:.2f}\")\n",
    "print(f\"Final Price: ${final_price:.2f}\")\n"
   ]
  },
  {
   "cell_type": "code",
   "execution_count": 53,
   "id": "790834ae-4838-4528-a663-4145c80fb020",
   "metadata": {},
   "outputs": [
    {
     "name": "stdin",
     "output_type": "stream",
     "text": [
      "Enter the total number of items purchased:  66\n"
     ]
    },
    {
     "name": "stdout",
     "output_type": "stream",
     "text": [
      "The customer gets half of the items for free.\n",
      "Total items purchased: 66\n",
      "Items to pay for: 33\n"
     ]
    }
   ],
   "source": [
    "#BUY ONE GET ONE FREE\n",
    "# Input: Total number of items purchased\n",
    "total_items = int(input(\"Enter the total number of items purchased: \"))\n",
    "\n",
    "# Check if the number of items is even or odd\n",
    "if total_items % 2 == 0:\n",
    "    items_to_pay_for = total_items // 2  # Half of the items are free\n",
    "    print(f\"The customer gets half of the items for free.\")\n",
    "else:\n",
    "    items_to_pay_for = total_items  # Customer pays for all items\n",
    "    print(f\"The customer has to pay for all items.\")\n",
    "\n",
    "# Display the result\n",
    "print(f\"Total items purchased: {total_items}\")\n",
    "print(f\"Items to pay for: {items_to_pay_for}\")\n"
   ]
  },
  {
   "cell_type": "markdown",
   "id": "2fc0d736-0b09-4c80-9782-4c7206dbe9b0",
   "metadata": {},
   "source": [
    "## TAX CALCULATION "
   ]
  },
  {
   "cell_type": "code",
   "execution_count": 64,
   "id": "05b23ff2-d9b5-4fc5-b3f1-48c280315bc2",
   "metadata": {},
   "outputs": [
    {
     "name": "stdin",
     "output_type": "stream",
     "text": [
      "enter the price of an item 600\n"
     ]
    },
    {
     "name": "stdout",
     "output_type": "stream",
     "text": [
      "itemprice: $600.00\n",
      "discount rate : 0.15\n",
      "final price $599.85\n"
     ]
    }
   ],
   "source": [
    "#SALES TAX\n",
    "item_price = float(input(\"enter the price of an item\"))\n",
    "\n",
    "if item_price > 500:\n",
    "              discount_rate = 0.15 #luxury discount rate\n",
    "\n",
    "else :\n",
    "    discount_rate = 0.8 #normal discount rate\n",
    "\n",
    "discount = item_price * discount_rate\n",
    "final_price = item_price - discount_rate\n",
    "\n",
    "\n",
    "print(f\"itemprice: ${item_price:.2f}\")\n",
    "print(f\"discount rate : {discount_rate:.2f}\")\n",
    "print(f\"final price ${final_price:.2f}\")"
   ]
  },
  {
   "cell_type": "code",
   "execution_count": 72,
   "id": "2afd5ba1-4270-4147-9884-2bd33f1a7ade",
   "metadata": {},
   "outputs": [
    {
     "name": "stdin",
     "output_type": "stream",
     "text": [
      "enter the amount of annunal income tax 600000\n"
     ]
    },
    {
     "name": "stdout",
     "output_type": "stream",
     "text": [
      "annual income tax : $600000.00\n",
      "discount rate:0.200000\n",
      "final price :599999.80\n"
     ]
    }
   ],
   "source": [
    "#INCOME TAX\n",
    "annunal_income_tax = float(input(\"enter the amount of annunal income tax\"))\n",
    "\n",
    "if annunal_income_tax >50000:\n",
    "    discount_rate = 0.20 #if $50000 annual amount\n",
    "\n",
    "else:\n",
    "    discount_rate=0.10\n",
    "\n",
    "discount = annunal_income_tax * discount_rate\n",
    "final_price = annunal_income_tax - discount_rate\n",
    "\n",
    "print(f\"annual income tax : ${annunal_income_tax:.2f}\")\n",
    "print(f\"discount rate:{discount_rate:2f}\")\n",
    "print(f\"final price :{final_price:.2f}\")"
   ]
  },
  {
   "cell_type": "code",
   "execution_count": 74,
   "id": "d5990478-ac30-4935-984b-2e2ece370d7b",
   "metadata": {},
   "outputs": [
    {
     "name": "stdin",
     "output_type": "stream",
     "text": [
      "Enter the income amount: $ 5000\n"
     ]
    },
    {
     "name": "stdout",
     "output_type": "stream",
     "text": [
      "Income: $5000.00\n",
      "Tax Bracket: Low Tax\n"
     ]
    }
   ],
   "source": [
    "#TAX BRACKET\n",
    "# Input: Income\n",
    "income = float(input(\"Enter the income amount: $\"))\n",
    "\n",
    "# Determine tax bracket\n",
    "if income < 30000:\n",
    "    tax_bracket = \"Low Tax\"\n",
    "elif 30000 <= income < 100000:\n",
    "    tax_bracket = \"Medium Tax\"\n",
    "else:\n",
    "    tax_bracket = \"High Tax\"\n",
    "\n",
    "# Display the result\n",
    "print(f\"Income: ${income:.2f}\")\n",
    "print(f\"Tax Bracket: {tax_bracket}\")\n"
   ]
  },
  {
   "cell_type": "code",
   "execution_count": 76,
   "id": "086d5d81-ca17-4e67-b6de-01750e5bbbf9",
   "metadata": {},
   "outputs": [
    {
     "name": "stdin",
     "output_type": "stream",
     "text": [
      "Enter the price of the item: $ 56\n",
      "Is the item essential? (yes/no):  YES\n"
     ]
    },
    {
     "name": "stdout",
     "output_type": "stream",
     "text": [
      "\n",
      "Original Price: $56.00\n",
      "VAT: 5% (Essential Item) +$2.80\n",
      "Final Price: $58.80\n"
     ]
    }
   ],
   "source": [
    "#VAT CALCULATIon\n",
    "# Input: Price of the item and whether it is essential\n",
    "price = float(input(\"Enter the price of the item: $\"))\n",
    "is_essential = input(\"Is the item essential? (yes/no): \").strip().lower() == \"yes\"\n",
    "\n",
    "# Determine VAT rate\n",
    "if is_essential:\n",
    "    vat_rate = 0.05  # 5% VAT for essential items\n",
    "    vat_type = \"5% (Essential Item)\"\n",
    "else:\n",
    "    vat_rate = 0.12  # 12% VAT for non-essential items\n",
    "    vat_type = \"12% (Non-Essential Item)\"\n",
    "\n",
    "# Calculate VAT and final price\n",
    "vat_amount = price * vat_rate\n",
    "final_price = price + vat_amount\n",
    "\n",
    "# Display the results\n",
    "print(f\"\\nOriginal Price: ${price:.2f}\")\n",
    "print(f\"VAT: {vat_type} +${vat_amount:.2f}\")\n",
    "print(f\"Final Price: ${final_price:.2f}\")\n"
   ]
  },
  {
   "cell_type": "code",
   "execution_count": 78,
   "id": "0694ca07-9a53-4de9-9149-be15363e728f",
   "metadata": {},
   "outputs": [
    {
     "name": "stdin",
     "output_type": "stream",
     "text": [
      "Enter the price of the item: $ 56\n",
      "Is today a tax-free day? (yes/no):  yes\n"
     ]
    },
    {
     "name": "stdout",
     "output_type": "stream",
     "text": [
      "\n",
      "Original Price: $56.00\n",
      "No tax applied (Tax-Free Day)\n",
      "Final Price: $56.00\n"
     ]
    }
   ],
   "source": [
    "#TAX FREE DAY\n",
    "# Input: Price of the item and tax-free day status\n",
    "price = float(input(\"Enter the price of the item: $\"))\n",
    "tax_free = input(\"Is today a tax-free day? (yes/no): \").strip().lower() == \"yes\"\n",
    "\n",
    "# Determine the final price\n",
    "if tax_free:\n",
    "    final_price = price  # No tax is applied\n",
    "    tax_message = \"No tax applied (Tax-Free Day)\"\n",
    "else:\n",
    "    tax_rate = 0.07  # 7% tax\n",
    "    tax_amount = price * tax_rate\n",
    "    final_price = price + tax_amount\n",
    "    tax_message = f\"7% Tax +${tax_amount:.2f}\"\n",
    "\n",
    "# Display the results\n",
    "print(f\"\\nOriginal Price: ${price:.2f}\")\n",
    "print(f\"{tax_message}\")\n",
    "print(f\"Final Price: ${final_price:.2f}\")\n"
   ]
  },
  {
   "cell_type": "markdown",
   "id": "b081b8e6-6837-4232-9b5a-7706de10f8b6",
   "metadata": {},
   "source": [
    "## SHOPING AND BILLING"
   ]
  },
  {
   "cell_type": "code",
   "execution_count": 17,
   "id": "dbf6a166-19f4-4ccc-96ec-3202572f226c",
   "metadata": {},
   "outputs": [
    {
     "name": "stdin",
     "output_type": "stream",
     "text": [
      "Enter the total purchase amount: $ 50\n"
     ]
    },
    {
     "name": "stdout",
     "output_type": "stream",
     "text": [
      "Total amount including shipping: $50.00\n"
     ]
    }
   ],
   "source": [
    "def calculate_total_with_shipping(purchase_amount):\n",
    "    if purchase_amount >= 50:\n",
    "        shipping_cost = 0\n",
    "    else:\n",
    "        shipping_cost = 5\n",
    "    \n",
    "    total_amount = purchase_amount + shipping_cost\n",
    "    return total_amount\n",
    "\n",
    "purchase_amount = float(input(\"Enter the total purchase amount: $\"))\n",
    "total_with_shipping = calculate_total_with_shipping(purchase_amount)\n",
    "print(f\"Total amount including shipping: ${total_with_shipping:.2f}\")\n"
   ]
  },
  {
   "cell_type": "code",
   "execution_count": 4,
   "id": "07726c90-7029-4e4a-bee2-d104c990e87e",
   "metadata": {},
   "outputs": [
    {
     "name": "stdin",
     "output_type": "stream",
     "text": [
      "Enter the original price: $ 56\n",
      "Enter the discount code:  HJHJH\n"
     ]
    },
    {
     "name": "stdout",
     "output_type": "stream",
     "text": [
      "Invalid discount code. No discount applied.\n",
      "The final price is: $56.00\n"
     ]
    }
   ],
   "source": [
    "#discount code\n",
    "# Function to calculate the final price after discount\n",
    "def calculate_price(original_price, discount_code):\n",
    "    # Define the valid discount code\n",
    "    VALID_CODE = \"DISCOUNT10\"\n",
    "    DISCOUNT_RATE = 0.10\n",
    "\n",
    "    if discount_code == VALID_CODE:\n",
    "        # Apply the discount\n",
    "        discount_amount = original_price * DISCOUNT_RATE\n",
    "        final_price = original_price - discount_amount\n",
    "        print(f\"Discount applied! You saved ${discount_amount:.2f}.\")\n",
    "    else:\n",
    "        # No discount applied\n",
    "        final_price = original_price\n",
    "        print(\"Invalid discount code. No discount applied.\")\n",
    "\n",
    "    return final_price\n",
    "\n",
    "original_price = float(input(\"Enter the original price: $\"))\n",
    "discount_code = input(\"Enter the discount code: \")\n",
    "\n",
    "final_price = calculate_price(original_price, discount_code)\n",
    "print(f\"The final price is: ${final_price:.2f}\")"
   ]
  },
  {
   "cell_type": "code",
   "execution_count": 27,
   "id": "19976242-a8b3-4835-8ffd-2e707662cde7",
   "metadata": {},
   "outputs": [
    {
     "name": "stdin",
     "output_type": "stream",
     "text": [
      "enter the total price 300\n"
     ]
    },
    {
     "name": "stdout",
     "output_type": "stream",
     "text": [
      "The final price is: $240.00\n",
      "this is the discount: $60.00\n"
     ]
    }
   ],
   "source": [
    "#TIERED DISCOUNT\n",
    "total_price = float(input(\"enter the total price\"))\n",
    "\n",
    "if total_price <= 50:\n",
    "    print(\"no discount avaliable\")\n",
    "    discoun_rate = 0.0\n",
    "elif 50 <= total_price <=100 :\n",
    "    discount_rate = 0.10\n",
    "\n",
    "else :\n",
    "    discount_rate = 0.20\n",
    "\n",
    "discount_amount = total_price * discount_rate\n",
    "final_price = total_price - discount_amount\n",
    "\n",
    "print(f\"The final price is: ${final_price:.2f}\")\n",
    "print(f\"this is the discount: ${discount_amount:.2f}\")\n"
   ]
  },
  {
   "cell_type": "code",
   "execution_count": 50,
   "id": "bcddae29-c6c3-4563-9f40-3abed3ec2b23",
   "metadata": {},
   "outputs": [
    {
     "name": "stdin",
     "output_type": "stream",
     "text": [
      "Enter the total amount:  10\n"
     ]
    },
    {
     "name": "stdout",
     "output_type": "stream",
     "text": [
      "Minimum purchase of $20 is required.\n"
     ]
    }
   ],
   "source": [
    "### Get the total amount\n",
    "total_amount = float(input(\"Enter the total amount: \"))\n",
    "\n",
    "# Check if the total amount is less than $20\n",
    "if total_amount < 20:\n",
    "    print(\"Minimum purchase of $20 is required.\")\n",
    "else:\n",
    "    print(f\"Total amount: ${total_amount:.2f}\")\n"
   ]
  },
  {
   "cell_type": "code",
   "execution_count": 52,
   "id": "307a2baf-3290-43ae-ae11-d7a033e77a00",
   "metadata": {},
   "outputs": [
    {
     "name": "stdin",
     "output_type": "stream",
     "text": [
      "Enter the total purchase amount:  66\n",
      "Is the customer a loyal member? (yes/no):  yes\n"
     ]
    },
    {
     "name": "stdout",
     "output_type": "stream",
     "text": [
      "Loyalty points earned: 132\n"
     ]
    }
   ],
   "source": [
    "#loyalty points\n",
    "\n",
    "# Input: Total amount and loyalty status\n",
    "total_amount = float(input(\"Enter the total purchase amount: \"))\n",
    "is_loyal = input(\"Is the customer a loyal member? (yes/no): \").strip().lower() == \"yes\"\n",
    "\n",
    "# Points per dollar\n",
    "points_per_dollar = 1  # Standard points per dollar\n",
    "loyal_multiplier = 2   # Double points for loyal members\n",
    "\n",
    "# Calculate points\n",
    "if is_loyal:\n",
    "    earned_points = total_amount * points_per_dollar * loyal_multiplier\n",
    "else:\n",
    "    earned_points = total_amount * points_per_dollar\n",
    "\n",
    "# Output the result\n",
    "print(f\"Loyalty points earned: {earned_points:.0f}\")\n"
   ]
  },
  {
   "cell_type": "markdown",
   "id": "2add1f46-168a-4d86-bc38-de39b9adee6f",
   "metadata": {},
   "source": [
    "### TRAVELS AND TICKETS"
   ]
  },
  {
   "cell_type": "code",
   "execution_count": 55,
   "id": "33d6ff9f-b34b-499e-98d5-d688a24cea45",
   "metadata": {},
   "outputs": [
    {
     "name": "stdin",
     "output_type": "stream",
     "text": [
      "Enter the distance traveled (in miles):  600\n",
      "Enter the ticket price: $ 50\n"
     ]
    },
    {
     "name": "stdout",
     "output_type": "stream",
     "text": [
      "Distance traveled: 600.0 miles\n",
      "Discounted ticket price: $40.00\n"
     ]
    }
   ],
   "source": [
    "# Input: Distance traveled and ticket price\n",
    "distance = float(input(\"Enter the distance traveled (in miles): \"))\n",
    "ticket_price = float(input(\"Enter the ticket price: $\"))\n",
    "\n",
    "# Check for discount eligibility\n",
    "if distance > 500:\n",
    "    discount = 0.20  # 20% discount\n",
    "    discounted_price = ticket_price * (1 - discount)\n",
    "    print(f\"Distance traveled: {distance} miles\")\n",
    "    print(f\"Discounted ticket price: ${discounted_price:.2f}\")\n",
    "else:\n",
    "    print(f\"Distance traveled: {distance} miles\")\n",
    "    print(f\"Full ticket price: ${ticket_price:.2f}\")\n"
   ]
  },
  {
   "cell_type": "code",
   "execution_count": 57,
   "id": "c566fac4-bd75-4738-a664-b16130ab5e3e",
   "metadata": {},
   "outputs": [
    {
     "name": "stdin",
     "output_type": "stream",
     "text": [
      "Enter the passenger's age:  56\n",
      "Enter the ticket price: $ 200\n"
     ]
    },
    {
     "name": "stdout",
     "output_type": "stream",
     "text": [
      "Age: 56 years\n",
      "Full ticket price: $200.00\n"
     ]
    }
   ],
   "source": [
    "# Input: Passenger's age and ticket price\n",
    "age = int(input(\"Enter the passenger's age: \"))\n",
    "ticket_price = float(input(\"Enter the ticket price: $\"))\n",
    "\n",
    "# Check for eligibility for a discount\n",
    "if age < 12 or age > 60:\n",
    "    discount_rate = 0.15  # 15% discount\n",
    "    discounted_price = ticket_price * (1 - discount_rate)\n",
    "    print(f\"Age: {age} years\")\n",
    "    print(f\"Discounted ticket price: ${discounted_price:.2f}\")\n",
    "else:\n",
    "    print(f\"Age: {age} years\")\n",
    "    print(f\"Full ticket price: ${ticket_price:.2f}\")\n"
   ]
  },
  {
   "cell_type": "code",
   "execution_count": 59,
   "id": "d4513aab-cce2-466b-bed3-3102da995b4e",
   "metadata": {},
   "outputs": [
    {
     "name": "stdin",
     "output_type": "stream",
     "text": [
      "Enter the ticket price: $ 200\n",
      "Is it a weekend? (yes/no):  yes\n"
     ]
    },
    {
     "name": "stdout",
     "output_type": "stream",
     "text": [
      "Weekend surcharge applied. Final ticket price: $220.00\n"
     ]
    }
   ],
   "source": [
    "# Input: Ticket price and whether it's a weekend\n",
    "ticket_price = float(input(\"Enter the ticket price: $\"))\n",
    "is_weekend = input(\"Is it a weekend? (yes/no): \").strip().lower() == \"yes\"\n",
    "\n",
    "# Apply surcharge for weekends\n",
    "if is_weekend:\n",
    "    surcharge = 0.10  # 10% surcharge for weekends\n",
    "    final_price = ticket_price * (1 + surcharge)\n",
    "    print(f\"Weekend surcharge applied. Final ticket price: ${final_price:.2f}\")\n",
    "else:\n",
    "    print(f\"Standard ticket price: ${ticket_price:.2f}\")\n"
   ]
  },
  {
   "cell_type": "code",
   "execution_count": 63,
   "id": "6e6e09d8-70d7-4cd4-b766-3b5a12967f64",
   "metadata": {},
   "outputs": [
    {
     "name": "stdin",
     "output_type": "stream",
     "text": [
      "Enter the total baggage weight in kg:  15\n"
     ]
    },
    {
     "name": "stdout",
     "output_type": "stream",
     "text": [
      "Baggage weight: 15.0 kg\n",
      "No extra baggage fee.\n"
     ]
    }
   ],
   "source": [
    "# Input: Total baggage weight\n",
    "baggage_weight = float(input(\"Enter the total baggage weight in kg: \"))\n",
    "\n",
    "# Fee calculation\n",
    "if baggage_weight > 20:\n",
    "    extra_weight = baggage_weight - 20\n",
    "    baggage_fee = extra_weight * 10  # $10 per extra kilogram\n",
    "    print(f\"Baggage weight: {baggage_weight} kg\")\n",
    "    print(f\"Extra baggage fee: ${baggage_fee:.2f}\")\n",
    "else:\n",
    "    print(f\"Baggage weight: {baggage_weight} kg\")\n",
    "    print(\"No extra baggage fee.\")\n"
   ]
  },
  {
   "cell_type": "code",
   "execution_count": 65,
   "id": "5ed4c3c5-d51d-463d-a345-8f0d8fe03cb7",
   "metadata": {},
   "outputs": [
    {
     "name": "stdin",
     "output_type": "stream",
     "text": [
      "Enter the ticket price: $ 200\n",
      "Enter the number of days the ticket is booked in advance:  20\n"
     ]
    },
    {
     "name": "stdout",
     "output_type": "stream",
     "text": [
      "Booked 20 days in advance.\n",
      "Full ticket price: $200.00\n"
     ]
    }
   ],
   "source": [
    "# Input: Ticket price and days in advance\n",
    "ticket_price = float(input(\"Enter the ticket price: $\"))\n",
    "days_in_advance = int(input(\"Enter the number of days the ticket is booked in advance: \"))\n",
    "\n",
    "# Check for Early Bird Discount eligibility\n",
    "if days_in_advance > 30:\n",
    "    discount_rate = 0.10  # 10% discount\n",
    "    discounted_price = ticket_price * (1 - discount_rate)\n",
    "    print(f\"Booked {days_in_advance} days in advance.\")\n",
    "    print(f\"Early Bird Discount applied. Final ticket price: ${discounted_price:.2f}\")\n",
    "else:\n",
    "    print(f\"Booked {days_in_advance} days in advance.\")\n",
    "    print(f\"Full ticket price: ${ticket_price:.2f}\")\n"
   ]
  },
  {
   "cell_type": "markdown",
   "id": "db26398c-95d6-4378-96f7-3aacea7b74bd",
   "metadata": {},
   "source": [
    "### GRADES AND PERFOREMENCE"
   ]
  },
  {
   "cell_type": "code",
   "execution_count": 76,
   "id": "0d15224c-2a59-4417-b5d2-5d70d60255bc",
   "metadata": {},
   "outputs": [
    {
     "name": "stdin",
     "output_type": "stream",
     "text": [
      "enter the students score 20\n"
     ]
    },
    {
     "name": "stdout",
     "output_type": "stream",
     "text": [
      "fail\n"
     ]
    }
   ],
   "source": [
    "enter_score = float(input(\"enter the students score\"))\n",
    "\n",
    "if enter_score >= 40:\n",
    "    print(\"pass\")\n",
    "\n",
    "else:\n",
    "    print(\"fail\")\n",
    "\n"
   ]
  },
  {
   "cell_type": "code",
   "execution_count": 94,
   "id": "dd6a282e-e576-4e1c-aae4-588b91d97129",
   "metadata": {},
   "outputs": [
    {
     "name": "stdin",
     "output_type": "stream",
     "text": [
      "enter student score 20\n"
     ]
    },
    {
     "name": "stdout",
     "output_type": "stream",
     "text": [
      "fail\n"
     ]
    }
   ],
   "source": [
    "enter_score = float(input(\"enter student score\"))\n",
    "\n",
    "if enter_score >= 90:\n",
    "    print(\"A GRADE\")\n",
    "\n",
    "elif enter_score >=75:\n",
    "    print(\"B GRADE\")\n",
    "\n",
    "elif enter_score >=50:\n",
    "    print(\"C GRADE\")\n",
    "\n",
    "else :\n",
    "    print(\"fail\")\n",
    "\n"
   ]
  },
  {
   "cell_type": "code",
   "execution_count": 96,
   "id": "a0e673e6-daf8-4e19-9ba6-d7942ce5aaf6",
   "metadata": {},
   "outputs": [
    {
     "name": "stdin",
     "output_type": "stream",
     "text": [
      "Enter the student's score:  20\n",
      "Has the student completed all assignments? (yes/no):  yes\n"
     ]
    },
    {
     "name": "stdout",
     "output_type": "stream",
     "text": [
      "Final score: 25.0\n"
     ]
    }
   ],
   "source": [
    "# Input: Student's score and assignment completion status\n",
    "score = float(input(\"Enter the student's score: \"))\n",
    "completed_assignments = input(\"Has the student completed all assignments? (yes/no): \").strip().lower() == \"yes\"\n",
    "\n",
    "# Apply bonus marks if all assignments are completed\n",
    "if completed_assignments:\n",
    "    score += 5  # Add 5 bonus marks\n",
    "\n",
    "# Output the final score\n",
    "print(f\"Final score: {score}\")\n"
   ]
  },
  {
   "cell_type": "code",
   "execution_count": 98,
   "id": "d5066f60-e502-4f31-ab51-1726eb1b1453",
   "metadata": {},
   "outputs": [
    {
     "name": "stdin",
     "output_type": "stream",
     "text": [
      "Enter the student's attendance percentage:  60\n"
     ]
    },
    {
     "name": "stdout",
     "output_type": "stream",
     "text": [
      "Attendance: 60.0%\n",
      "The student is not eligible to take the exam.\n"
     ]
    }
   ],
   "source": [
    "# Input: Student's attendance percentage\n",
    "attendance = float(input(\"Enter the student's attendance percentage: \"))\n",
    "\n",
    "# Check eligibility\n",
    "if attendance >= 75:\n",
    "    print(f\"Attendance: {attendance}%\")\n",
    "    print(\"The student is eligible to take the exam.\")\n",
    "else:\n",
    "    print(f\"Attendance: {attendance}%\")\n",
    "    print(\"The student is not eligible to take the exam.\")\n"
   ]
  },
  {
   "cell_type": "code",
   "execution_count": 100,
   "id": "ccf91aa7-4cb2-4a66-9aa8-95a349bf62b6",
   "metadata": {},
   "outputs": [
    {
     "name": "stdin",
     "output_type": "stream",
     "text": [
      "Enter the student's grade (A/B/C/F):  a\n",
      "Enter the student's annual family income: $ 2000\n"
     ]
    },
    {
     "name": "stdout",
     "output_type": "stream",
     "text": [
      "Grade: A\n",
      "Annual Family Income: $2000.00\n",
      "The student is eligible for a scholarship.\n"
     ]
    }
   ],
   "source": [
    "# Input: Student's grade and family income\n",
    "grade = input(\"Enter the student's grade (A/B/C/F): \").strip().upper()\n",
    "family_income = float(input(\"Enter the student's annual family income: $\"))\n",
    "\n",
    "# Check scholarship eligibility\n",
    "if grade == \"A\" and family_income < 30000:\n",
    "    print(f\"Grade: {grade}\")\n",
    "    print(f\"Annual Family Income: ${family_income:.2f}\")\n",
    "    print(\"The student is eligible for a scholarship.\")\n",
    "else:\n",
    "    print(f\"Grade: {grade}\")\n",
    "    print(f\"Annual Family Income: ${family_income:.2f}\")\n",
    "    print(\"The student is not eligible for a scholarship.\")\n"
   ]
  },
  {
   "cell_type": "code",
   "execution_count": null,
   "id": "020edfbb-d18c-46ef-8d81-649b207b8699",
   "metadata": {},
   "outputs": [],
   "source": []
  }
 ],
 "metadata": {
  "kernelspec": {
   "display_name": "Python 3 (ipykernel)",
   "language": "python",
   "name": "python3"
  },
  "language_info": {
   "codemirror_mode": {
    "name": "ipython",
    "version": 3
   },
   "file_extension": ".py",
   "mimetype": "text/x-python",
   "name": "python",
   "nbconvert_exporter": "python",
   "pygments_lexer": "ipython3",
   "version": "3.12.7"
  }
 },
 "nbformat": 4,
 "nbformat_minor": 5
}
